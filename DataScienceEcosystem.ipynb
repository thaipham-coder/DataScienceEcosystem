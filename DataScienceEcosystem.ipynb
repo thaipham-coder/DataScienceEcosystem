{
  "nbformat": 4,
  "nbformat_minor": 0,
  "metadata": {
    "colab": {
      "provenance": []
    },
    "kernelspec": {
      "name": "python3",
      "display_name": "Python 3"
    },
    "language_info": {
      "name": "python"
    }
  },
  "cells": [
    {
      "cell_type": "markdown",
      "source": [
        "# Data Science Tools and Ecosystem\n",
        "\n",
        "In this notebook, Data Science Tools and Ecosystem are summarized.\n",
        "\n",
        "### Some of the popular languages that Data Scientists use are:\n",
        "\n",
        "1. Python\n",
        "2. R\n",
        "3. SQL\n",
        "4. Julia\n",
        "5. Scala\n",
        "\n",
        "### Some of the commonly used libraries used by Data Scientists include:\n",
        "\n",
        "1. NumPy\n",
        "2. Pandas\n",
        "3. Matplotlib\n",
        "4. scikit-learn\n",
        "5. TensorFlow\n",
        "\n",
        "| Data Science Tools    |\n",
        "|-----------------------|\n",
        "| Jupyter Notebook      |\n",
        "| RStudio               |\n",
        "| VS Code with Python   |\n",
        "\n",
        "### Examples of Evaluating Arithmetic Expressions in Python\n"
      ],
      "metadata": {
        "id": "-H5fAIU0elxL"
      }
    },
    {
      "cell_type": "code",
      "execution_count": 2,
      "metadata": {
        "colab": {
          "base_uri": "https://localhost:8080/"
        },
        "id": "dv2kFg9KeeKu",
        "outputId": "b3ae41ed-d865-4381-b9a0-e4038780944e"
      },
      "outputs": [
        {
          "output_type": "stream",
          "name": "stdout",
          "text": [
            "17\n"
          ]
        }
      ],
      "source": [
        "# Create a code cell to multiply and add numbers\n",
        "result = (3 * 4) + 5\n",
        "print(result)"
      ]
    },
    {
      "cell_type": "code",
      "source": [
        "# Create a code cell to convert minutes to hours\n",
        "# This will convert 200 minutes to hours by dividing by 60.\n",
        "minutes = 200\n",
        "hours = minutes / 60\n",
        "print(hours)"
      ],
      "metadata": {
        "colab": {
          "base_uri": "https://localhost:8080/"
        },
        "id": "3Z7FqoOVioh0",
        "outputId": "0b3265d8-5a47-46af-872f-c2deba7e830b"
      },
      "execution_count": 3,
      "outputs": [
        {
          "output_type": "stream",
          "name": "stdout",
          "text": [
            "3.3333333333333335\n"
          ]
        }
      ]
    },
    {
      "cell_type": "markdown",
      "source": [
        "**Objectives:**\n",
        "\n",
        "- List popular languages for Data Science.\n",
        "- Highlight commonly used libraries in Data Science.\n",
        "- Introduce Data Science tools.\n",
        "- Demonstrate evaluation of arithmetic expressions in Python.\n",
        "- Illustrate conversion of units, such as minutes to hours, in Python.\n"
      ],
      "metadata": {
        "id": "1aaRm-pdAIrt"
      }
    },
    {
      "cell_type": "markdown",
      "source": [
        "## Author\n",
        "\n",
        "Phạm Hồng Thái"
      ],
      "metadata": {
        "id": "GJjLp72HAWOu"
      }
    },
    {
      "cell_type": "code",
      "source": [],
      "metadata": {
        "id": "T1qouBI5i9yA"
      },
      "execution_count": null,
      "outputs": []
    }
  ]
}